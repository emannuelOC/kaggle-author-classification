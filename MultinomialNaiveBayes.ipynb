{
 "cells": [
  {
   "cell_type": "code",
   "execution_count": 75,
   "metadata": {
    "collapsed": true
   },
   "outputs": [],
   "source": [
    "import pandas as pd\n",
    "df = pd.read_csv('train.csv', encoding='utf-8')\n",
    "text_train = df['text']\n",
    "author_train = df['author']"
   ]
  },
  {
   "cell_type": "code",
   "execution_count": 76,
   "metadata": {
    "collapsed": true
   },
   "outputs": [],
   "source": [
    "y_train = [{'EAP': 0, 'HPL': 1, 'MWS': 2}[y] for y in author_train]"
   ]
  },
  {
   "cell_type": "code",
   "execution_count": 4,
   "metadata": {},
   "outputs": [
    {
     "data": {
      "text/plain": [
       "(19579, 25068)"
      ]
     },
     "execution_count": 4,
     "metadata": {},
     "output_type": "execute_result"
    }
   ],
   "source": [
    "from sklearn.feature_extraction.text import CountVectorizer\n",
    "count_vect = CountVectorizer()\n",
    "X_train_counts = count_vect.fit_transform(text_train)\n",
    "X_train_counts.shape"
   ]
  },
  {
   "cell_type": "code",
   "execution_count": 14,
   "metadata": {},
   "outputs": [
    {
     "data": {
      "text/plain": [
       "(19579, 25068)"
      ]
     },
     "execution_count": 14,
     "metadata": {},
     "output_type": "execute_result"
    }
   ],
   "source": [
    "from sklearn.feature_extraction.text import TfidfTransformer\n",
    "tfidf_transformer = TfidfTransformer()\n",
    "X_train_tfidf = tfidf_transformer.fit_transform(X_train_counts)\n",
    "X_train_tfidf.shape"
   ]
  },
  {
   "cell_type": "code",
   "execution_count": 37,
   "metadata": {
    "collapsed": true
   },
   "outputs": [],
   "source": [
    "def normalize(probs):\n",
    "    return [float(p)/float(sum(probs)) for p in probs]"
   ]
  },
  {
   "cell_type": "code",
   "execution_count": 42,
   "metadata": {},
   "outputs": [
    {
     "name": "stdout",
     "output_type": "stream",
     "text": [
      "0.821756894791\n"
     ]
    }
   ],
   "source": [
    "from sklearn.naive_bayes import MultinomialNB\n",
    "clf_X_train, clf_X_test = X_train_tfidf[:-1958], X_train_tfidf[-1958:]\n",
    "clf_y_train, clf_y_test = y_train[:-1958], y_train[-1958:]\n",
    "clf = MultinomialNB().fit(clf_X_train, clf_y_train)\n",
    "acc = clf.score(clf_X_test, clf_y_test)\n",
    "probs = clf.predict_proba(clf_X_test)\n",
    "print(acc)"
   ]
  },
  {
   "cell_type": "code",
   "execution_count": 51,
   "metadata": {
    "collapsed": true
   },
   "outputs": [],
   "source": [
    "def create_submission(file_name, ids, y):\n",
    "    file_text = \"\"\n",
    "    file_text += \"id,EAP,HPL,MWS\\n\"\n",
    "    for data in zip(ids, y):\n",
    "        file_text += \"{},{},{},{}\\n\".format(data[0], data[1][0], data[1][1], data[1][2])\n",
    "    submission_file = open(file_name, 'w')\n",
    "    submission_file.write(file_text)\n",
    "    submission_file.close()"
   ]
  },
  {
   "cell_type": "code",
   "execution_count": 70,
   "metadata": {
    "collapsed": true
   },
   "outputs": [],
   "source": [
    "submission_df = pd.read_csv('test.csv', encoding='utf-8')\n",
    "submission_text_train = submission_df['text']\n",
    "submission_ids = [i for i in submission_df['id']]\n",
    "submission_y_train_counts = count_vect.fit_transform(submission_text_train)\n",
    "submission_y_train_tfidf = tfidf_transformer.fit_transform(submission_y_train_counts)"
   ]
  },
  {
   "cell_type": "code",
   "execution_count": 71,
   "metadata": {},
   "outputs": [],
   "source": [
    "y_submission = clf.predict_proba(submission_X_train_tfidf)"
   ]
  },
  {
   "cell_type": "code",
   "execution_count": 72,
   "metadata": {},
   "outputs": [],
   "source": [
    "create_submission('submisison7.csv', submission_ids, y_submission)"
   ]
  },
  {
   "cell_type": "code",
   "execution_count": 59,
   "metadata": {},
   "outputs": [
    {
     "data": {
      "text/plain": [
       "(19579, 3)"
      ]
     },
     "execution_count": 59,
     "metadata": {},
     "output_type": "execute_result"
    }
   ],
   "source": [
    "y_submission.shape"
   ]
  },
  {
   "cell_type": "code",
   "execution_count": 73,
   "metadata": {
    "collapsed": true
   },
   "outputs": [],
   "source": [
    "## Support Vector Machine"
   ]
  },
  {
   "cell_type": "code",
   "execution_count": 74,
   "metadata": {
    "collapsed": true
   },
   "outputs": [],
   "source": [
    "from sklearn.pipeline import Pipeline\n",
    "from sklearn.linear_model import SGDClassifier"
   ]
  },
  {
   "cell_type": "code",
   "execution_count": 101,
   "metadata": {},
   "outputs": [
    {
     "name": "stderr",
     "output_type": "stream",
     "text": [
      "/Users/emannuelcarvalho/.virtualenvs/ml/lib/python2.7/site-packages/sklearn/linear_model/stochastic_gradient.py:117: DeprecationWarning: n_iter parameter is deprecated in 0.19 and will be removed in 0.21. Use max_iter and tol instead.\n",
      "  DeprecationWarning)\n"
     ]
    }
   ],
   "source": [
    "text_clf_svm = Pipeline([('vect', CountVectorizer()),\n",
    "                        ('tfidf', TfidfTransformer()),\n",
    "                        ('clf-svm', SGDClassifier(loss='modified_huber',\n",
    "                                                  penalty='l2',\n",
    "                                                 alpha=1e-3,\n",
    "                                                 n_iter=5,\n",
    "                                                 random_state=42))])\n",
    "_ = text_clf_svm.fit(df['text'][:-1958], y_train[:-1958])\n",
    "val = text_clf_svm.score(df['text'][-1958:], y_train[-1958:])\n",
    "predicts = text_clf_svm.predict_proba(submission_df.text)"
   ]
  },
  {
   "cell_type": "code",
   "execution_count": 102,
   "metadata": {},
   "outputs": [
    {
     "name": "stdout",
     "output_type": "stream",
     "text": [
      "0.805924412666 [ 0.32958867  0.09955858  0.57085275]\n"
     ]
    }
   ],
   "source": [
    "print val, predicts[0]"
   ]
  },
  {
   "cell_type": "code",
   "execution_count": 108,
   "metadata": {},
   "outputs": [],
   "source": [
    "create_submission('submission8.csv', [i for i in submission_df['id']], predicts)"
   ]
  },
  {
   "cell_type": "code",
   "execution_count": 109,
   "metadata": {
    "collapsed": true
   },
   "outputs": [],
   "source": [
    "## Lets try to tune the parameters"
   ]
  },
  {
   "cell_type": "code",
   "execution_count": 116,
   "metadata": {},
   "outputs": [
    {
     "name": "stdout",
     "output_type": "stream",
     "text": [
      "0.82226762002\n"
     ]
    }
   ],
   "source": [
    "# create the pipeline for the clf\n",
    "text_clf = Pipeline([('vect', CountVectorizer()),\n",
    "                      ('tfidf', TfidfTransformer()),\n",
    "                      ('clf', MultinomialNB())\n",
    "                    ])\n",
    "text_clf = text_clf.fit(df['text'][:-1958], y_train[:-1958])\n",
    "val = text_clf.score(df['text'][-1958:], y_train[-1958:])\n",
    "print val"
   ]
  },
  {
   "cell_type": "code",
   "execution_count": 143,
   "metadata": {},
   "outputs": [],
   "source": [
    "from sklearn.model_selection import GridSearchCV\n",
    "parameters = {'vect__ngram_range': [(1, 1), (1, 2)],\n",
    "             'tfidf__use_idf': (True, False),\n",
    "             'clf__alpha': (1e-2, 1e-3),\n",
    "             'clf__fit_prior': (True, False)}\n",
    "gs_clf = GridSearchCV(text_clf, parameters)\n",
    "gs_clf_result = gs_clf.fit(df['text'][:-1958], y_train[:-1958])"
   ]
  },
  {
   "cell_type": "code",
   "execution_count": 144,
   "metadata": {},
   "outputs": [
    {
     "data": {
      "text/plain": [
       "0.846603484478747"
      ]
     },
     "execution_count": 144,
     "metadata": {},
     "output_type": "execute_result"
    }
   ],
   "source": [
    "gs_clf_result.best_score_"
   ]
  },
  {
   "cell_type": "code",
   "execution_count": 145,
   "metadata": {},
   "outputs": [
    {
     "data": {
      "text/plain": [
       "{'clf__alpha': 0.01,\n",
       " 'clf__fit_prior': True,\n",
       " 'tfidf__use_idf': False,\n",
       " 'vect__ngram_range': (1, 2)}"
      ]
     },
     "execution_count": 145,
     "metadata": {},
     "output_type": "execute_result"
    }
   ],
   "source": [
    "gs_clf_result.best_params_"
   ]
  },
  {
   "cell_type": "code",
   "execution_count": 146,
   "metadata": {
    "collapsed": true
   },
   "outputs": [],
   "source": [
    "gs_predict = gs_clf.predict_proba(submission_df.text)"
   ]
  },
  {
   "cell_type": "code",
   "execution_count": 147,
   "metadata": {},
   "outputs": [
    {
     "data": {
      "text/plain": [
       "array([[ 0.04150345,  0.00705363,  0.95144292],\n",
       "       [ 0.93971874,  0.04910328,  0.01117798],\n",
       "       [ 0.04291856,  0.93743371,  0.01964773],\n",
       "       [ 0.37966663,  0.60785676,  0.01247661],\n",
       "       [ 0.68312338,  0.26140214,  0.05547448],\n",
       "       [ 0.9671043 ,  0.0318109 ,  0.0010848 ],\n",
       "       [ 0.93736656,  0.03465893,  0.02797451],\n",
       "       [ 0.02498425,  0.02326506,  0.9517507 ],\n",
       "       [ 0.96792296,  0.02992997,  0.00214707],\n",
       "       [ 0.91727698,  0.03409329,  0.04862973],\n",
       "       [ 0.0503785 ,  0.01455906,  0.93506244],\n",
       "       [ 0.01120738,  0.97828749,  0.01050513]])"
      ]
     },
     "execution_count": 147,
     "metadata": {},
     "output_type": "execute_result"
    }
   ],
   "source": [
    "gs_predict[:12]"
   ]
  },
  {
   "cell_type": "code",
   "execution_count": 140,
   "metadata": {},
   "outputs": [],
   "source": [
    "create_submission('submission10.csv', [i for i in submission_df['id']], gs_predict)"
   ]
  },
  {
   "cell_type": "code",
   "execution_count": 137,
   "metadata": {
    "collapsed": true
   },
   "outputs": [],
   "source": [
    "import numpy as np\n",
    "def tune(probs):\n",
    "    for i in xrange(len(probs)):\n",
    "        if probs[i] > 0.92:\n",
    "            new_probs = [0.0, 0.0, 0.0]\n",
    "            new_probs[i] = 1.0\n",
    "            return np.array(new_probs)\n",
    "    return probs"
   ]
  },
  {
   "cell_type": "code",
   "execution_count": 139,
   "metadata": {},
   "outputs": [
    {
     "data": {
      "text/plain": [
       "[array([ 0.,  0.,  1.]),\n",
       " array([ 1.,  0.,  0.]),\n",
       " array([ 0.,  1.,  0.]),\n",
       " array([ 0.37966663,  0.60785676,  0.01247661]),\n",
       " array([ 0.68312338,  0.26140214,  0.05547448]),\n",
       " array([ 1.,  0.,  0.]),\n",
       " array([ 1.,  0.,  0.]),\n",
       " array([ 0.,  0.,  1.]),\n",
       " array([ 1.,  0.,  0.]),\n",
       " array([ 0.91727698,  0.03409329,  0.04862973]),\n",
       " array([ 0.,  0.,  1.]),\n",
       " array([ 0.,  1.,  0.])]"
      ]
     },
     "execution_count": 139,
     "metadata": {},
     "output_type": "execute_result"
    }
   ],
   "source": [
    "tuned_predict[:12]"
   ]
  },
  {
   "cell_type": "code",
   "execution_count": null,
   "metadata": {
    "collapsed": true
   },
   "outputs": [],
   "source": []
  }
 ],
 "metadata": {
  "kernelspec": {
   "display_name": "Python 2",
   "language": "python",
   "name": "python2"
  },
  "language_info": {
   "codemirror_mode": {
    "name": "ipython",
    "version": 2
   },
   "file_extension": ".py",
   "mimetype": "text/x-python",
   "name": "python",
   "nbconvert_exporter": "python",
   "pygments_lexer": "ipython2",
   "version": "2.7.10"
  }
 },
 "nbformat": 4,
 "nbformat_minor": 2
}
