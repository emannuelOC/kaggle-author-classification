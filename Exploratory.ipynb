{
 "cells": [
  {
   "cell_type": "code",
   "execution_count": 1,
   "metadata": {},
   "outputs": [
    {
     "name": "stderr",
     "output_type": "stream",
     "text": [
      "Using TensorFlow backend.\n"
     ]
    }
   ],
   "source": [
    "import os\n",
    "import tempfile\n",
    "\n",
    "import keras\n",
    "import numpy as np\n",
    "from keras.datasets import imdb\n",
    "from keras.models import Sequential\n",
    "from keras.models import Model\n",
    "from keras.layers import merge\n",
    "from keras.layers import Dense\n",
    "from keras.layers import LSTM, Conv1D, MaxPooling1D\n",
    "from keras.layers import Dropout\n",
    "from keras.layers import Dense, Activation, Flatten, Input, Reshape, Convolution2D, MaxPooling2D\n",
    "from keras.layers.embeddings import Embedding\n",
    "from keras.preprocessing import sequence\n",
    "from keras.callbacks import ModelCheckpoint\n",
    "from keras.optimizers import Adam\n",
    "\n",
    "from keras.utils.np_utils import to_categorical\n",
    "\n",
    "import pandas as pd\n",
    "import matplotlib.pyplot as plt\n",
    "\n",
    "import nltk\n",
    "from nltk.stem import WordNetLemmatizer\n",
    "\n",
    "import gensim\n",
    "from gensim.models import Word2Vec"
   ]
  },
  {
   "cell_type": "code",
   "execution_count": 121,
   "metadata": {
    "collapsed": true
   },
   "outputs": [],
   "source": [
    "import sys\n",
    "stdout = sys.stdout\n",
    "reload(sys)\n",
    "sys.setdefaultencoding('utf-8')\n",
    "sys.stdout = stdout"
   ]
  },
  {
   "cell_type": "code",
   "execution_count": 20,
   "metadata": {
    "collapsed": true
   },
   "outputs": [],
   "source": [
    "df = pd.read_csv('train.csv', encoding='utf-8')"
   ]
  },
  {
   "cell_type": "code",
   "execution_count": 49,
   "metadata": {
    "collapsed": true
   },
   "outputs": [],
   "source": [
    "X_train, y_train = df['text'], df['author']"
   ]
  },
  {
   "cell_type": "code",
   "execution_count": 4,
   "metadata": {},
   "outputs": [
    {
     "data": {
      "text/plain": [
       "(19579, 19579)"
      ]
     },
     "execution_count": 4,
     "metadata": {},
     "output_type": "execute_result"
    }
   ],
   "source": [
    "len(X_train), len(y_train)"
   ]
  },
  {
   "cell_type": "markdown",
   "metadata": {},
   "source": [
    "## Embedding: generate vectors"
   ]
  },
  {
   "cell_type": "code",
   "execution_count": 50,
   "metadata": {
    "collapsed": true
   },
   "outputs": [],
   "source": [
    "def process(string_list):\n",
    "    print(string_list)\n",
    "    new_list = [clean(nltk.word_tokenize(s)) for s in string_list]\n",
    "    return new_list\n",
    "\n",
    "def clean(sentence, stop_words=[], lemm=WordNetLemmatizer()):\n",
    "    return [x.lower() for x in sentence if x.lower() not in stop_words]"
   ]
  },
  {
   "cell_type": "code",
   "execution_count": 25,
   "metadata": {},
   "outputs": [
    {
     "name": "stderr",
     "output_type": "stream",
     "text": [
      "/Users/emannuelcarvalho/.virtualenvs/ml/lib/python2.7/site-packages/ipykernel_launcher.py:7: UnicodeWarning: Unicode equal comparison failed to convert both arguments to Unicode - interpreting them as being unequal\n",
      "  import sys\n"
     ]
    },
    {
     "data": {
      "text/plain": [
       "[u'told', u'alre\\ufffd\\ufffddy', u'car', u'look', u'nice']"
      ]
     },
     "execution_count": 25,
     "metadata": {},
     "output_type": "execute_result"
    }
   ],
   "source": [
    "clean(nltk.word_tokenize(\"I told you alreædy that the car looks nice\"))"
   ]
  },
  {
   "cell_type": "code",
   "execution_count": 124,
   "metadata": {
    "collapsed": true
   },
   "outputs": [],
   "source": [
    "for s in X_train:\n",
    "    print s\n",
    "    process([unicode(s, errors='replace')])"
   ]
  },
  {
   "cell_type": "code",
   "execution_count": 52,
   "metadata": {},
   "outputs": [
    {
     "name": "stderr",
     "output_type": "stream",
     "text": [
      "IOPub data rate exceeded.\n",
      "The notebook server will temporarily stop sending output\n",
      "to the client in order to avoid crashing it.\n",
      "To change this limit, set the config variable\n",
      "`--NotebookApp.iopub_data_rate_limit`.\n"
     ]
    }
   ],
   "source": [
    "sentences = process([x for x in X_train])\n",
    "vector_size = 70\n",
    "model = Word2Vec(sentences, size=vector_size, window=10, min_count=1, workers=4)\n",
    "word_vectors = model.wv\n",
    "del model"
   ]
  },
  {
   "cell_type": "code",
   "execution_count": 53,
   "metadata": {
    "collapsed": true
   },
   "outputs": [],
   "source": [
    "def vectorize_word(word):\n",
    "    try:\n",
    "        return word_vectors[word.strip(',.!?\\'\"').strip(',.!?\\'\"').lower()]\n",
    "    except:\n",
    "        return word_vectors['the']\n",
    "                            \n",
    "\n",
    "def vectorize(text):\n",
    "    return [vectorize_word(w) for w in text.split()]\n",
    "\n",
    "X_train_vec = [vectorize(text) for text in X_train]"
   ]
  },
  {
   "cell_type": "code",
   "execution_count": 54,
   "metadata": {},
   "outputs": [
    {
     "name": "stdout",
     "output_type": "stream",
     "text": [
      "19579\n",
      "19579\n"
     ]
    }
   ],
   "source": [
    "print len(y_train)\n",
    "y_train = [{'EAP': 0, 'HPL': 1, 'MWS': 2}[y] for y in y_train]\n",
    "print len(y_train)"
   ]
  },
  {
   "cell_type": "code",
   "execution_count": 55,
   "metadata": {
    "collapsed": true
   },
   "outputs": [],
   "source": [
    "X_train_vec = np.array(X_train_vec)\n",
    "y_train = to_categorical(np.array(y_train), num_classes=3)"
   ]
  },
  {
   "cell_type": "code",
   "execution_count": 56,
   "metadata": {},
   "outputs": [
    {
     "data": {
      "image/png": "[encoded data removed]",
      "text/plain": [
       "<matplotlib.figure.Figure at 0x125595450>"
      ]
     },
     "metadata": {},
     "output_type": "display_data"
    }
   ],
   "source": [
    "counts = np.array([len(x) for x in X_train_vec])\n",
    "plt.boxplot(counts)\n",
    "plt.show()"
   ]
  },
  {
   "cell_type": "code",
   "execution_count": 57,
   "metadata": {
    "collapsed": true
   },
   "outputs": [],
   "source": [
    "# truncate and pad input sequences\n",
    "X_train = X_train_vec\n",
    "max_length = 200\n",
    "X_train = sequence.pad_sequences(X_train, maxlen=max_length)"
   ]
  },
  {
   "cell_type": "code",
   "execution_count": 70,
   "metadata": {},
   "outputs": [
    {
     "name": "stdout",
     "output_type": "stream",
     "text": [
      "(19579, 200, 70) (19579, 3)\n"
     ]
    }
   ],
   "source": [
    "print X_train.shape, y_train.shape"
   ]
  },
  {
   "cell_type": "code",
   "execution_count": 60,
   "metadata": {},
   "outputs": [
    {
     "data": {
      "text/plain": [
       "[(u'show', 0.982287585735321),\n",
       " (u'god', 0.9796628355979919),\n",
       " (u'word', 0.9752758741378784),\n",
       " (u'pretty', 0.9736962914466858),\n",
       " (u\"'t\", 0.9734954833984375),\n",
       " (u'yours', 0.9676824808120728),\n",
       " (u'valor', 0.9633820652961731),\n",
       " (u'quite', 0.9613347053527832),\n",
       " (u'foolish', 0.9610820412635803),\n",
       " (u'write', 0.9584431648254395)]"
      ]
     },
     "execution_count": 60,
     "metadata": {},
     "output_type": "execute_result"
    }
   ],
   "source": [
    "word_vectors.most_similar('good')"
   ]
  },
  {
   "cell_type": "code",
   "execution_count": 61,
   "metadata": {},
   "outputs": [
    {
     "data": {
      "text/plain": [
       "(19579, 200, 70)"
      ]
     },
     "execution_count": 61,
     "metadata": {},
     "output_type": "execute_result"
    }
   ],
   "source": [
    "X_train.shape"
   ]
  },
  {
   "cell_type": "code",
   "execution_count": 77,
   "metadata": {},
   "outputs": [
    {
     "data": {
      "text/plain": [
       "MultinomialNB(alpha=1.0, class_prior=None, fit_prior=True)"
      ]
     },
     "execution_count": 77,
     "metadata": {},
     "output_type": "execute_result"
    }
   ],
   "source": [
    "from sklearn.naive_bayes import MultinomialNB\n",
    "from sklearn.preprocessing import Normalizer\n",
    "nsamples, nx, ny = X_train.shape\n",
    "d2_X_train = X_train.reshape((nsamples,nx*ny))\n",
    "d2_X_train = Normalizer(copy=False).fit_transform(d2_X_train)\n",
    "d2_X_train += 1.0\n",
    "d1_y_train = [{'EAP': 0, 'HPL': 1, 'MWS': 2}[y] for y in df['author']]\n",
    "\n",
    "clf = MultinomialNB()\n",
    "clf.fit(d2_X_train, d1_y_train)"
   ]
  },
  {
   "cell_type": "code",
   "execution_count": 89,
   "metadata": {},
   "outputs": [],
   "source": [
    "test_df = pd.read_csv('test.csv')\n",
    "X_test_text = test_df['text']\n",
    "X_test = [vectorize(text) for text in X_test_text]\n",
    "X_test = sequence.pad_sequences(X_test, maxlen=max_length)\n",
    "nsamples, nx, ny = X_test.shape\n",
    "d2_X_test = X_test.reshape((nsamples,nx*ny))\n",
    "d2_X_test = Normalizer(copy=False).fit_transform(d2_X_test)\n",
    "d2_X_test += 1.0"
   ]
  },
  {
   "cell_type": "code",
   "execution_count": 90,
   "metadata": {
    "collapsed": true
   },
   "outputs": [],
   "source": [
    "ids, y_test = [i for i in test_df['id']], clf.predict_proba(d2_X_test)"
   ]
  },
  {
   "cell_type": "code",
   "execution_count": 93,
   "metadata": {},
   "outputs": [
    {
     "data": {
      "text/plain": [
       "array([ 0.40213821,  0.28979128,  0.30807051])"
      ]
     },
     "execution_count": 93,
     "metadata": {},
     "output_type": "execute_result"
    }
   ],
   "source": [
    "y_test[1390]"
   ]
  },
  {
   "cell_type": "code",
   "execution_count": 64,
   "metadata": {},
   "outputs": [
    {
     "name": "stderr",
     "output_type": "stream",
     "text": [
      "/Users/emannuelcarvalho/.virtualenvs/ml/lib/python2.7/site-packages/ipykernel_launcher.py:2: UserWarning: Update your `Dense` call to the Keras 2 API: `Dense(512, activation=\"relu\", kernel_initializer=\"uniform\", input_shape=(200, 70))`\n",
      "  \n"
     ]
    },
    {
     "name": "stdout",
     "output_type": "stream",
     "text": [
      "Train on 13117 samples, validate on 6462 samples\n",
      "Epoch 1/10\n",
      "13117/13117 [==============================] - 194s - loss: 1.0369 - acc: 0.4656 - val_loss: 0.9780 - val_acc: 0.5378\n",
      "Epoch 2/10\n",
      "13117/13117 [==============================] - 184s - loss: 0.9673 - acc: 0.5478 - val_loss: 0.9282 - val_acc: 0.5590\n",
      "Epoch 3/10\n",
      "13117/13117 [==============================] - 186s - loss: 0.9176 - acc: 0.5824 - val_loss: 0.8910 - val_acc: 0.5853\n",
      "Epoch 4/10\n",
      "13117/13117 [==============================] - 190s - loss: 0.8836 - acc: 0.6061 - val_loss: 0.8744 - val_acc: 0.6040\n",
      "Epoch 5/10\n",
      "13117/13117 [==============================] - 185s - loss: 0.8549 - acc: 0.6270 - val_loss: 0.8933 - val_acc: 0.6035\n",
      "Epoch 6/10\n",
      "13117/13117 [==============================] - 184s - loss: 0.8402 - acc: 0.6345 - val_loss: 0.9172 - val_acc: 0.6051\n",
      "Epoch 7/10\n",
      "13117/13117 [==============================] - 189s - loss: 0.8256 - acc: 0.6399 - val_loss: 0.9647 - val_acc: 0.5591\n",
      "Epoch 8/10\n",
      "13117/13117 [==============================] - 189s - loss: 0.8177 - acc: 0.6549 - val_loss: 0.8928 - val_acc: 0.6148\n",
      "Epoch 9/10\n",
      "13117/13117 [==============================] - 189s - loss: 0.8191 - acc: 0.6482 - val_loss: 0.8740 - val_acc: 0.6011\n",
      "Epoch 10/10\n",
      "13117/13117 [==============================] - 191s - loss: 0.8021 - acc: 0.6563 - val_loss: 0.9019 - val_acc: 0.6144\n"
     ]
    }
   ],
   "source": [
    "model = Sequential()\n",
    "model.add(Dense(512, input_shape=(200, 70), init=\"uniform\", activation=\"relu\"))\n",
    "model.add(Conv1D(128, 5, activation='relu'))\n",
    "model.add(MaxPooling1D(5))\n",
    "model.add(Conv1D(128, 5, activation='relu'))\n",
    "model.add(MaxPooling1D(5))\n",
    "model.add(Conv1D(128, 5, activation='relu'))\n",
    "model.add(MaxPooling1D(3))\n",
    "model.add(Dropout(0.5))\n",
    "model.add(Dense(128, activation='relu'))\n",
    "model.add(Dropout(0.5))\n",
    "model.add(Flatten())\n",
    "model.add(Dense(3, activation='softmax'))  \n",
    "\n",
    "model.compile(optimizer='rmsprop',\n",
    "              loss='categorical_crossentropy',\n",
    "              metrics=['accuracy'])\n",
    "\n",
    "history = model.fit(X_train, y_train, epochs=10, validation_split=0.33, batch_size=32)"
   ]
  },
  {
   "cell_type": "code",
   "execution_count": null,
   "metadata": {
    "collapsed": true
   },
   "outputs": [],
   "source": []
  },
  {
   "cell_type": "code",
   "execution_count": 26,
   "metadata": {},
   "outputs": [
    {
     "name": "stdout",
     "output_type": "stream",
     "text": [
      "[[ 0.48820114  0.15095983  0.36083898]] [ 0.  0.  1.]\n"
     ]
    }
   ],
   "source": [
    "prediction = model.predict(np.array([X_train[3]]))\n",
    "print prediction, y_train[3]"
   ]
  },
  {
   "cell_type": "code",
   "execution_count": 27,
   "metadata": {
    "collapsed": true
   },
   "outputs": [],
   "source": [
    "test_df = pd.read_csv('test.csv')\n",
    "X_test_text = test_df['text']"
   ]
  },
  {
   "cell_type": "code",
   "execution_count": 28,
   "metadata": {
    "collapsed": true
   },
   "outputs": [],
   "source": [
    "X_test = [vectorize(text) for text in X_test_text]\n",
    "X_test = sequence.pad_sequences(X_test, maxlen=max_length)"
   ]
  },
  {
   "cell_type": "code",
   "execution_count": 29,
   "metadata": {
    "collapsed": true
   },
   "outputs": [],
   "source": [
    "ids, y_test = [i for i in test_df['id']], model.predict(X_test)"
   ]
  },
  {
   "cell_type": "code",
   "execution_count": 30,
   "metadata": {},
   "outputs": [
    {
     "name": "stdout",
     "output_type": "stream",
     "text": [
      "id,EAP,HPL,MWS\n",
      "id02310,0.0450474508107,0.0615367554128,0.893415808678\n",
      "id24541,0.969961106777,0.0161529406905,0.0138858770952\n",
      "id00134,0.0378526486456,0.716230392456,0.245916977525\n",
      "id27757,0.83968108892\n"
     ]
    }
   ],
   "source": [
    "# submission_file = open('submission1.csv', 'w')\n",
    "file_text = \"\"\n",
    "file_text += \"id,EAP,HPL,MWS\\n\"\n",
    "for data in zip(ids, y_test):\n",
    "    file_text += \"{},{},{},{}\\n\".format(data[0], data[1][0], data[1][1], data[1][2])\n",
    "print(file_text[:200])"
   ]
  },
  {
   "cell_type": "code",
   "execution_count": 139,
   "metadata": {},
   "outputs": [
    {
     "ename": "NameError",
     "evalue": "name 'file_text' is not defined",
     "output_type": "error",
     "traceback": [
      "\u001b[0;31m---------------------------------------------------------------------------\u001b[0m",
      "\u001b[0;31mNameError\u001b[0m                                 Traceback (most recent call last)",
      "\u001b[0;32m<ipython-input-139-7f4b9925c320>\u001b[0m in \u001b[0;36m<module>\u001b[0;34m()\u001b[0m\n\u001b[1;32m      1\u001b[0m \u001b[0msubmission_file\u001b[0m \u001b[0;34m=\u001b[0m \u001b[0mopen\u001b[0m\u001b[0;34m(\u001b[0m\u001b[0;34m'submission4.csv'\u001b[0m\u001b[0;34m,\u001b[0m \u001b[0;34m'w'\u001b[0m\u001b[0;34m)\u001b[0m\u001b[0;34m\u001b[0m\u001b[0m\n\u001b[0;32m----> 2\u001b[0;31m \u001b[0msubmission_file\u001b[0m\u001b[0;34m.\u001b[0m\u001b[0mwrite\u001b[0m\u001b[0;34m(\u001b[0m\u001b[0mfile_text\u001b[0m\u001b[0;34m)\u001b[0m\u001b[0;34m\u001b[0m\u001b[0m\n\u001b[0m\u001b[1;32m      3\u001b[0m \u001b[0msubmission_file\u001b[0m\u001b[0;34m.\u001b[0m\u001b[0mclose\u001b[0m\u001b[0;34m(\u001b[0m\u001b[0;34m)\u001b[0m\u001b[0;34m\u001b[0m\u001b[0m\n",
      "\u001b[0;31mNameError\u001b[0m: name 'file_text' is not defined"
     ]
    }
   ],
   "source": [
    "submission_file = open('submission4.csv', 'w')\n",
    "submission_file.write(file_text)\n",
    "submission_file.close()"
   ]
  },
  {
   "cell_type": "code",
   "execution_count": null,
   "metadata": {
    "collapsed": true
   },
   "outputs": [],
   "source": []
  }
 ],
 "metadata": {
  "kernelspec": {
   "display_name": "Python 2",
   "language": "python",
   "name": "python2"
  },
  "language_info": {
   "codemirror_mode": {
    "name": "ipython",
    "version": 2
   },
   "file_extension": ".py",
   "mimetype": "text/x-python",
   "name": "python",
   "nbconvert_exporter": "python",
   "pygments_lexer": "ipython2",
   "version": "2.7.10"
  }
 },
 "nbformat": 4,
 "nbformat_minor": 2
}
