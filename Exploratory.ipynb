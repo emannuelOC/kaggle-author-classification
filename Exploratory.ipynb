{
 "cells": [
  {
   "cell_type": "code",
   "execution_count": 2,
   "metadata": {},
   "outputs": [
    {
     "name": "stderr",
     "output_type": "stream",
     "text": [
      "Using TensorFlow backend.\n"
     ]
    }
   ],
   "source": [
    "import os\n",
    "import tempfile\n",
    "\n",
    "import keras\n",
    "import numpy as np\n",
    "from keras.datasets import imdb\n",
    "from keras.models import Sequential\n",
    "from keras.layers import Dense\n",
    "from keras.layers import LSTM\n",
    "from keras.layers import Dense, Activation, Flatten\n",
    "from keras.layers.embeddings import Embedding\n",
    "from keras.preprocessing import sequence\n",
    "from keras.utils.np_utils import to_categorical\n",
    "\n",
    "import pandas as pd\n",
    "import matplotlib.pyplot as plt\n",
    "\n",
    "import gensim\n",
    "from gensim.models import Word2Vec"
   ]
  },
  {
   "cell_type": "code",
   "execution_count": 3,
   "metadata": {
    "collapsed": true
   },
   "outputs": [],
   "source": [
    "df = pd.read_csv('train.csv')"
   ]
  },
  {
   "cell_type": "code",
   "execution_count": 4,
   "metadata": {
    "collapsed": true
   },
   "outputs": [],
   "source": [
    "X_train, y_train = df['text'], df['author']"
   ]
  },
  {
   "cell_type": "code",
   "execution_count": 5,
   "metadata": {},
   "outputs": [
    {
     "data": {
      "text/plain": [
       "(19579, 19579)"
      ]
     },
     "execution_count": 5,
     "metadata": {},
     "output_type": "execute_result"
    }
   ],
   "source": [
    "len(X_train), len(y_train)"
   ]
  },
  {
   "cell_type": "markdown",
   "metadata": {},
   "source": [
    "## Embedding: generate vectors"
   ]
  },
  {
   "cell_type": "code",
   "execution_count": 6,
   "metadata": {
    "collapsed": true
   },
   "outputs": [],
   "source": [
    "def process(string_list):\n",
    "    new_list = [s.replace('.', '').replace(',', '') for s in string_list]\n",
    "    new_list = [s.lower().split() for s in new_list]\n",
    "    return new_list"
   ]
  },
  {
   "cell_type": "code",
   "execution_count": 7,
   "metadata": {
    "collapsed": true
   },
   "outputs": [],
   "source": [
    "sentences = process([x for x in X_train])\n",
    "model = Word2Vec(sentences, size=100, window=10, min_count=1, workers=4)\n",
    "word_vectors = model.wv\n",
    "del model"
   ]
  },
  {
   "cell_type": "code",
   "execution_count": 8,
   "metadata": {
    "collapsed": true
   },
   "outputs": [],
   "source": [
    "def vectorize_word(word):\n",
    "    try:\n",
    "        return word_vectors[word.strip(',.!?\\'\"').strip(',.!?\\'\"').lower()]\n",
    "    except:\n",
    "        return word_vectors['the']\n",
    "                            \n",
    "\n",
    "def vectorize(text):\n",
    "    return [vectorize_word(w) for w in text.split()]\n",
    "\n",
    "X_train_vec = [vectorize(text) for text in X_train]"
   ]
  },
  {
   "cell_type": "code",
   "execution_count": 9,
   "metadata": {},
   "outputs": [
    {
     "data": {
      "text/html": [
       "<div>\n",
       "<style>\n",
       "    .dataframe thead tr:only-child th {\n",
       "        text-align: right;\n",
       "    }\n",
       "\n",
       "    .dataframe thead th {\n",
       "        text-align: left;\n",
       "    }\n",
       "\n",
       "    .dataframe tbody tr th {\n",
       "        vertical-align: top;\n",
       "    }\n",
       "</style>\n",
       "<table border=\"1\" class=\"dataframe\">\n",
       "  <thead>\n",
       "    <tr style=\"text-align: right;\">\n",
       "      <th></th>\n",
       "      <th>id</th>\n",
       "      <th>text</th>\n",
       "      <th>author</th>\n",
       "    </tr>\n",
       "  </thead>\n",
       "  <tbody>\n",
       "    <tr>\n",
       "      <th>0</th>\n",
       "      <td>id26305</td>\n",
       "      <td>This process, however, afforded me no means of...</td>\n",
       "      <td>EAP</td>\n",
       "    </tr>\n",
       "    <tr>\n",
       "      <th>1</th>\n",
       "      <td>id17569</td>\n",
       "      <td>It never once occurred to me that the fumbling...</td>\n",
       "      <td>HPL</td>\n",
       "    </tr>\n",
       "    <tr>\n",
       "      <th>2</th>\n",
       "      <td>id11008</td>\n",
       "      <td>In his left hand was a gold snuff box, from wh...</td>\n",
       "      <td>EAP</td>\n",
       "    </tr>\n",
       "    <tr>\n",
       "      <th>3</th>\n",
       "      <td>id27763</td>\n",
       "      <td>How lovely is spring As we looked from Windsor...</td>\n",
       "      <td>MWS</td>\n",
       "    </tr>\n",
       "    <tr>\n",
       "      <th>4</th>\n",
       "      <td>id12958</td>\n",
       "      <td>Finding nothing else, not even gold, the Super...</td>\n",
       "      <td>HPL</td>\n",
       "    </tr>\n",
       "    <tr>\n",
       "      <th>5</th>\n",
       "      <td>id22965</td>\n",
       "      <td>A youth passed in solitude, my best years spen...</td>\n",
       "      <td>MWS</td>\n",
       "    </tr>\n",
       "    <tr>\n",
       "      <th>6</th>\n",
       "      <td>id09674</td>\n",
       "      <td>The astronomer, perhaps, at this point, took r...</td>\n",
       "      <td>EAP</td>\n",
       "    </tr>\n",
       "    <tr>\n",
       "      <th>7</th>\n",
       "      <td>id13515</td>\n",
       "      <td>The surcingle hung in ribands from my body.</td>\n",
       "      <td>EAP</td>\n",
       "    </tr>\n",
       "    <tr>\n",
       "      <th>8</th>\n",
       "      <td>id19322</td>\n",
       "      <td>I knew that you could not say to yourself 'ste...</td>\n",
       "      <td>EAP</td>\n",
       "    </tr>\n",
       "    <tr>\n",
       "      <th>9</th>\n",
       "      <td>id00912</td>\n",
       "      <td>I confess that neither the structure of langua...</td>\n",
       "      <td>MWS</td>\n",
       "    </tr>\n",
       "    <tr>\n",
       "      <th>10</th>\n",
       "      <td>id16737</td>\n",
       "      <td>He shall find that I can feel my injuries; he ...</td>\n",
       "      <td>MWS</td>\n",
       "    </tr>\n",
       "    <tr>\n",
       "      <th>11</th>\n",
       "      <td>id16607</td>\n",
       "      <td>Here we barricaded ourselves, and, for the pre...</td>\n",
       "      <td>EAP</td>\n",
       "    </tr>\n",
       "    <tr>\n",
       "      <th>12</th>\n",
       "      <td>id19764</td>\n",
       "      <td>Herbert West needed fresh bodies because his l...</td>\n",
       "      <td>HPL</td>\n",
       "    </tr>\n",
       "    <tr>\n",
       "      <th>13</th>\n",
       "      <td>id18886</td>\n",
       "      <td>The farm like grounds extended back very deepl...</td>\n",
       "      <td>HPL</td>\n",
       "    </tr>\n",
       "    <tr>\n",
       "      <th>14</th>\n",
       "      <td>id17189</td>\n",
       "      <td>But a glance will show the fallacy of this idea.</td>\n",
       "      <td>EAP</td>\n",
       "    </tr>\n",
       "    <tr>\n",
       "      <th>15</th>\n",
       "      <td>id12799</td>\n",
       "      <td>He had escaped me, and I must commence a destr...</td>\n",
       "      <td>MWS</td>\n",
       "    </tr>\n",
       "    <tr>\n",
       "      <th>16</th>\n",
       "      <td>id08441</td>\n",
       "      <td>To these speeches they gave, of course, their ...</td>\n",
       "      <td>EAP</td>\n",
       "    </tr>\n",
       "    <tr>\n",
       "      <th>17</th>\n",
       "      <td>id13117</td>\n",
       "      <td>Her native sprightliness needed no undue excit...</td>\n",
       "      <td>MWS</td>\n",
       "    </tr>\n",
       "    <tr>\n",
       "      <th>18</th>\n",
       "      <td>id14862</td>\n",
       "      <td>I even went so far as to speak of a slightly h...</td>\n",
       "      <td>EAP</td>\n",
       "    </tr>\n",
       "    <tr>\n",
       "      <th>19</th>\n",
       "      <td>id20836</td>\n",
       "      <td>His facial aspect, too, was remarkable for its...</td>\n",
       "      <td>HPL</td>\n",
       "    </tr>\n",
       "    <tr>\n",
       "      <th>20</th>\n",
       "      <td>id11411</td>\n",
       "      <td>Now the net work was not permanently fastened ...</td>\n",
       "      <td>EAP</td>\n",
       "    </tr>\n",
       "    <tr>\n",
       "      <th>21</th>\n",
       "      <td>id08075</td>\n",
       "      <td>It was not that the sounds were hideous, for t...</td>\n",
       "      <td>HPL</td>\n",
       "    </tr>\n",
       "    <tr>\n",
       "      <th>22</th>\n",
       "      <td>id18925</td>\n",
       "      <td>On every hand was a wilderness of balconies, o...</td>\n",
       "      <td>EAP</td>\n",
       "    </tr>\n",
       "    <tr>\n",
       "      <th>23</th>\n",
       "      <td>id19925</td>\n",
       "      <td>With how deep a spirit of wonder and perplexit...</td>\n",
       "      <td>EAP</td>\n",
       "    </tr>\n",
       "    <tr>\n",
       "      <th>24</th>\n",
       "      <td>id01704</td>\n",
       "      <td>These bizarre attempts at explanation were fol...</td>\n",
       "      <td>EAP</td>\n",
       "    </tr>\n",
       "    <tr>\n",
       "      <th>25</th>\n",
       "      <td>id10125</td>\n",
       "      <td>For many prodigies and signs had taken place, ...</td>\n",
       "      <td>EAP</td>\n",
       "    </tr>\n",
       "    <tr>\n",
       "      <th>26</th>\n",
       "      <td>id02448</td>\n",
       "      <td>All that as yet can fairly be said to be known...</td>\n",
       "      <td>EAP</td>\n",
       "    </tr>\n",
       "    <tr>\n",
       "      <th>27</th>\n",
       "      <td>id23451</td>\n",
       "      <td>I seemed to be upon the verge of comprehension...</td>\n",
       "      <td>EAP</td>\n",
       "    </tr>\n",
       "    <tr>\n",
       "      <th>28</th>\n",
       "      <td>id27907</td>\n",
       "      <td>Our compasses, depth gauges, and other delicat...</td>\n",
       "      <td>HPL</td>\n",
       "    </tr>\n",
       "    <tr>\n",
       "      <th>29</th>\n",
       "      <td>id08121</td>\n",
       "      <td>This the young warriors took back with them to...</td>\n",
       "      <td>HPL</td>\n",
       "    </tr>\n",
       "    <tr>\n",
       "      <th>...</th>\n",
       "      <td>...</td>\n",
       "      <td>...</td>\n",
       "      <td>...</td>\n",
       "    </tr>\n",
       "    <tr>\n",
       "      <th>19549</th>\n",
       "      <td>id20955</td>\n",
       "      <td>But it was not so; I was the same in strength,...</td>\n",
       "      <td>MWS</td>\n",
       "    </tr>\n",
       "    <tr>\n",
       "      <th>19550</th>\n",
       "      <td>id01270</td>\n",
       "      <td>He then took the book himself, and read me a c...</td>\n",
       "      <td>EAP</td>\n",
       "    </tr>\n",
       "    <tr>\n",
       "      <th>19551</th>\n",
       "      <td>id22290</td>\n",
       "      <td>\"Adolphe Le Bon, clerk to Mignaud et Fils, dep...</td>\n",
       "      <td>EAP</td>\n",
       "    </tr>\n",
       "    <tr>\n",
       "      <th>19552</th>\n",
       "      <td>id20272</td>\n",
       "      <td>But of the character of his remarks at the per...</td>\n",
       "      <td>EAP</td>\n",
       "    </tr>\n",
       "    <tr>\n",
       "      <th>19553</th>\n",
       "      <td>id18082</td>\n",
       "      <td>He notes every variation of face as the play p...</td>\n",
       "      <td>EAP</td>\n",
       "    </tr>\n",
       "    <tr>\n",
       "      <th>19554</th>\n",
       "      <td>id07976</td>\n",
       "      <td>They admitted they had been drunk, but both vo...</td>\n",
       "      <td>HPL</td>\n",
       "    </tr>\n",
       "    <tr>\n",
       "      <th>19555</th>\n",
       "      <td>id26741</td>\n",
       "      <td>The rays of the newly risen sun poured in upon...</td>\n",
       "      <td>EAP</td>\n",
       "    </tr>\n",
       "    <tr>\n",
       "      <th>19556</th>\n",
       "      <td>id26698</td>\n",
       "      <td>To the north on the craggy precipice a few pac...</td>\n",
       "      <td>EAP</td>\n",
       "    </tr>\n",
       "    <tr>\n",
       "      <th>19557</th>\n",
       "      <td>id22265</td>\n",
       "      <td>The frauds of the banks of course I couldn't h...</td>\n",
       "      <td>EAP</td>\n",
       "    </tr>\n",
       "    <tr>\n",
       "      <th>19558</th>\n",
       "      <td>id14778</td>\n",
       "      <td>He was attired, as I had expected, in a costum...</td>\n",
       "      <td>EAP</td>\n",
       "    </tr>\n",
       "    <tr>\n",
       "      <th>19559</th>\n",
       "      <td>id18823</td>\n",
       "      <td>When a fumbling came in the nearer casements h...</td>\n",
       "      <td>HPL</td>\n",
       "    </tr>\n",
       "    <tr>\n",
       "      <th>19560</th>\n",
       "      <td>id00893</td>\n",
       "      <td>But then there is the tone laconic, or curt, w...</td>\n",
       "      <td>EAP</td>\n",
       "    </tr>\n",
       "    <tr>\n",
       "      <th>19561</th>\n",
       "      <td>id08678</td>\n",
       "      <td>Average people in society and business New Eng...</td>\n",
       "      <td>HPL</td>\n",
       "    </tr>\n",
       "    <tr>\n",
       "      <th>19562</th>\n",
       "      <td>id10857</td>\n",
       "      <td>The modes and sources of this kind of error ar...</td>\n",
       "      <td>EAP</td>\n",
       "    </tr>\n",
       "    <tr>\n",
       "      <th>19563</th>\n",
       "      <td>id10563</td>\n",
       "      <td>Yet from whom has not that rude hand rent away...</td>\n",
       "      <td>MWS</td>\n",
       "    </tr>\n",
       "    <tr>\n",
       "      <th>19564</th>\n",
       "      <td>id11752</td>\n",
       "      <td>Almighty God no, no They heard they suspected ...</td>\n",
       "      <td>EAP</td>\n",
       "    </tr>\n",
       "    <tr>\n",
       "      <th>19565</th>\n",
       "      <td>id26214</td>\n",
       "      <td>I hope you have not been so foolish as to take...</td>\n",
       "      <td>EAP</td>\n",
       "    </tr>\n",
       "    <tr>\n",
       "      <th>19566</th>\n",
       "      <td>id00832</td>\n",
       "      <td>These reflections made our legislators pause, ...</td>\n",
       "      <td>MWS</td>\n",
       "    </tr>\n",
       "    <tr>\n",
       "      <th>19567</th>\n",
       "      <td>id04187</td>\n",
       "      <td>Because there were some considerations of deep...</td>\n",
       "      <td>EAP</td>\n",
       "    </tr>\n",
       "    <tr>\n",
       "      <th>19568</th>\n",
       "      <td>id22378</td>\n",
       "      <td>Before going in we walked up the street, turne...</td>\n",
       "      <td>EAP</td>\n",
       "    </tr>\n",
       "    <tr>\n",
       "      <th>19569</th>\n",
       "      <td>id26790</td>\n",
       "      <td>Once my fancy was soothed with dreams of virtu...</td>\n",
       "      <td>MWS</td>\n",
       "    </tr>\n",
       "    <tr>\n",
       "      <th>19570</th>\n",
       "      <td>id14263</td>\n",
       "      <td>Nay, you may have met with another whom you ma...</td>\n",
       "      <td>MWS</td>\n",
       "    </tr>\n",
       "    <tr>\n",
       "      <th>19571</th>\n",
       "      <td>id14420</td>\n",
       "      <td>My watch was still going, and told me that the...</td>\n",
       "      <td>HPL</td>\n",
       "    </tr>\n",
       "    <tr>\n",
       "      <th>19572</th>\n",
       "      <td>id03325</td>\n",
       "      <td>But these and other difficulties attending res...</td>\n",
       "      <td>EAP</td>\n",
       "    </tr>\n",
       "    <tr>\n",
       "      <th>19573</th>\n",
       "      <td>id07567</td>\n",
       "      <td>Stress of weather drove us up the Adriatic Gul...</td>\n",
       "      <td>MWS</td>\n",
       "    </tr>\n",
       "    <tr>\n",
       "      <th>19574</th>\n",
       "      <td>id17718</td>\n",
       "      <td>I could have fancied, while I looked at it, th...</td>\n",
       "      <td>EAP</td>\n",
       "    </tr>\n",
       "    <tr>\n",
       "      <th>19575</th>\n",
       "      <td>id08973</td>\n",
       "      <td>The lids clenched themselves together as if in...</td>\n",
       "      <td>EAP</td>\n",
       "    </tr>\n",
       "    <tr>\n",
       "      <th>19576</th>\n",
       "      <td>id05267</td>\n",
       "      <td>Mais il faut agir that is to say, a Frenchman ...</td>\n",
       "      <td>EAP</td>\n",
       "    </tr>\n",
       "    <tr>\n",
       "      <th>19577</th>\n",
       "      <td>id17513</td>\n",
       "      <td>For an item of news like this, it strikes us i...</td>\n",
       "      <td>EAP</td>\n",
       "    </tr>\n",
       "    <tr>\n",
       "      <th>19578</th>\n",
       "      <td>id00393</td>\n",
       "      <td>He laid a gnarled claw on my shoulder, and it ...</td>\n",
       "      <td>HPL</td>\n",
       "    </tr>\n",
       "  </tbody>\n",
       "</table>\n",
       "<p>19579 rows × 3 columns</p>\n",
       "</div>"
      ],
      "text/plain": [
       "            id                                               text author\n",
       "0      id26305  This process, however, afforded me no means of...    EAP\n",
       "1      id17569  It never once occurred to me that the fumbling...    HPL\n",
       "2      id11008  In his left hand was a gold snuff box, from wh...    EAP\n",
       "3      id27763  How lovely is spring As we looked from Windsor...    MWS\n",
       "4      id12958  Finding nothing else, not even gold, the Super...    HPL\n",
       "5      id22965  A youth passed in solitude, my best years spen...    MWS\n",
       "6      id09674  The astronomer, perhaps, at this point, took r...    EAP\n",
       "7      id13515        The surcingle hung in ribands from my body.    EAP\n",
       "8      id19322  I knew that you could not say to yourself 'ste...    EAP\n",
       "9      id00912  I confess that neither the structure of langua...    MWS\n",
       "10     id16737  He shall find that I can feel my injuries; he ...    MWS\n",
       "11     id16607  Here we barricaded ourselves, and, for the pre...    EAP\n",
       "12     id19764  Herbert West needed fresh bodies because his l...    HPL\n",
       "13     id18886  The farm like grounds extended back very deepl...    HPL\n",
       "14     id17189   But a glance will show the fallacy of this idea.    EAP\n",
       "15     id12799  He had escaped me, and I must commence a destr...    MWS\n",
       "16     id08441  To these speeches they gave, of course, their ...    EAP\n",
       "17     id13117  Her native sprightliness needed no undue excit...    MWS\n",
       "18     id14862  I even went so far as to speak of a slightly h...    EAP\n",
       "19     id20836  His facial aspect, too, was remarkable for its...    HPL\n",
       "20     id11411  Now the net work was not permanently fastened ...    EAP\n",
       "21     id08075  It was not that the sounds were hideous, for t...    HPL\n",
       "22     id18925  On every hand was a wilderness of balconies, o...    EAP\n",
       "23     id19925  With how deep a spirit of wonder and perplexit...    EAP\n",
       "24     id01704  These bizarre attempts at explanation were fol...    EAP\n",
       "25     id10125  For many prodigies and signs had taken place, ...    EAP\n",
       "26     id02448  All that as yet can fairly be said to be known...    EAP\n",
       "27     id23451  I seemed to be upon the verge of comprehension...    EAP\n",
       "28     id27907  Our compasses, depth gauges, and other delicat...    HPL\n",
       "29     id08121  This the young warriors took back with them to...    HPL\n",
       "...        ...                                                ...    ...\n",
       "19549  id20955  But it was not so; I was the same in strength,...    MWS\n",
       "19550  id01270  He then took the book himself, and read me a c...    EAP\n",
       "19551  id22290  \"Adolphe Le Bon, clerk to Mignaud et Fils, dep...    EAP\n",
       "19552  id20272  But of the character of his remarks at the per...    EAP\n",
       "19553  id18082  He notes every variation of face as the play p...    EAP\n",
       "19554  id07976  They admitted they had been drunk, but both vo...    HPL\n",
       "19555  id26741  The rays of the newly risen sun poured in upon...    EAP\n",
       "19556  id26698  To the north on the craggy precipice a few pac...    EAP\n",
       "19557  id22265  The frauds of the banks of course I couldn't h...    EAP\n",
       "19558  id14778  He was attired, as I had expected, in a costum...    EAP\n",
       "19559  id18823  When a fumbling came in the nearer casements h...    HPL\n",
       "19560  id00893  But then there is the tone laconic, or curt, w...    EAP\n",
       "19561  id08678  Average people in society and business New Eng...    HPL\n",
       "19562  id10857  The modes and sources of this kind of error ar...    EAP\n",
       "19563  id10563  Yet from whom has not that rude hand rent away...    MWS\n",
       "19564  id11752  Almighty God no, no They heard they suspected ...    EAP\n",
       "19565  id26214  I hope you have not been so foolish as to take...    EAP\n",
       "19566  id00832  These reflections made our legislators pause, ...    MWS\n",
       "19567  id04187  Because there were some considerations of deep...    EAP\n",
       "19568  id22378  Before going in we walked up the street, turne...    EAP\n",
       "19569  id26790  Once my fancy was soothed with dreams of virtu...    MWS\n",
       "19570  id14263  Nay, you may have met with another whom you ma...    MWS\n",
       "19571  id14420  My watch was still going, and told me that the...    HPL\n",
       "19572  id03325  But these and other difficulties attending res...    EAP\n",
       "19573  id07567  Stress of weather drove us up the Adriatic Gul...    MWS\n",
       "19574  id17718  I could have fancied, while I looked at it, th...    EAP\n",
       "19575  id08973  The lids clenched themselves together as if in...    EAP\n",
       "19576  id05267  Mais il faut agir that is to say, a Frenchman ...    EAP\n",
       "19577  id17513  For an item of news like this, it strikes us i...    EAP\n",
       "19578  id00393  He laid a gnarled claw on my shoulder, and it ...    HPL\n",
       "\n",
       "[19579 rows x 3 columns]"
      ]
     },
     "execution_count": 9,
     "metadata": {},
     "output_type": "execute_result"
    }
   ],
   "source": [
    "df"
   ]
  },
  {
   "cell_type": "code",
   "execution_count": 10,
   "metadata": {},
   "outputs": [
    {
     "name": "stdout",
     "output_type": "stream",
     "text": [
      "19579\n",
      "19579\n"
     ]
    }
   ],
   "source": [
    "print len(y_train)\n",
    "y_train = [{'EAP': 0, 'HPL': 1, 'MWS': 2}[y] for y in y_train]\n",
    "print len(y_train)"
   ]
  },
  {
   "cell_type": "code",
   "execution_count": 11,
   "metadata": {
    "collapsed": true
   },
   "outputs": [],
   "source": [
    "X_train_vec = np.array(X_train_vec)\n",
    "y_train = to_categorical(np.array(y_train), num_classes=3)"
   ]
  },
  {
   "cell_type": "code",
   "execution_count": 12,
   "metadata": {},
   "outputs": [
    {
     "data": {
      "text/plain": [
       "19579"
      ]
     },
     "execution_count": 12,
     "metadata": {},
     "output_type": "execute_result"
    }
   ],
   "source": [
    "len(y_train)"
   ]
  },
  {
   "cell_type": "code",
   "execution_count": 13,
   "metadata": {
    "collapsed": true
   },
   "outputs": [],
   "source": [
    "# truncate and pad input sequences\n",
    "X_train = X_train_vec\n",
    "max_length = 500\n",
    "X_train = sequence.pad_sequences(X_train, maxlen=max_length)"
   ]
  },
  {
   "cell_type": "code",
   "execution_count": 14,
   "metadata": {},
   "outputs": [
    {
     "data": {
      "text/plain": [
       "(19579, 500, 100)"
      ]
     },
     "execution_count": 14,
     "metadata": {},
     "output_type": "execute_result"
    }
   ],
   "source": [
    "X_train.shape"
   ]
  },
  {
   "cell_type": "code",
   "execution_count": 22,
   "metadata": {},
   "outputs": [
    {
     "name": "stderr",
     "output_type": "stream",
     "text": [
      "/Users/emannuelcarvalho/.virtualenvs/ml/lib/python2.7/site-packages/ipykernel_launcher.py:3: UserWarning: Update your `Dense` call to the Keras 2 API: `Dense(512, activation=\"relu\", kernel_initializer=\"uniform\", input_shape=(500, 100))`\n",
      "  This is separate from the ipykernel package so we can avoid doing imports until\n",
      "/Users/emannuelcarvalho/.virtualenvs/ml/lib/python2.7/site-packages/ipykernel_launcher.py:4: UserWarning: Update your `Dense` call to the Keras 2 API: `Dense(256, activation=\"relu\", kernel_initializer=\"uniform\")`\n",
      "  after removing the cwd from sys.path.\n",
      "/Users/emannuelcarvalho/.virtualenvs/ml/lib/python2.7/site-packages/ipykernel_launcher.py:5: UserWarning: Update your `Dense` call to the Keras 2 API: `Dense(256, activation=\"relu\", kernel_initializer=\"uniform\")`\n",
      "  \"\"\"\n"
     ]
    },
    {
     "name": "stdout",
     "output_type": "stream",
     "text": [
      "Train on 13117 samples, validate on 6462 samples\n",
      "Epoch 1/10\n",
      "13117/13117 [==============================] - 329s - loss: 0.9932 - acc: 0.5125 - val_loss: 0.9362 - val_acc: 0.5565\n",
      "Epoch 2/10\n",
      "13117/13117 [==============================] - 349s - loss: 0.8826 - acc: 0.5959 - val_loss: 0.8710 - val_acc: 0.6028\n",
      "Epoch 3/10\n",
      "13117/13117 [==============================] - 322s - loss: 0.8154 - acc: 0.6417 - val_loss: 0.8694 - val_acc: 0.6122\n",
      "Epoch 4/10\n",
      "13117/13117 [==============================] - 316s - loss: 0.7701 - acc: 0.6599 - val_loss: 0.8507 - val_acc: 0.6271\n",
      "Epoch 5/10\n",
      "13117/13117 [==============================] - 319s - loss: 0.7361 - acc: 0.6774 - val_loss: 0.8628 - val_acc: 0.6198\n",
      "Epoch 6/10\n",
      "13117/13117 [==============================] - 311s - loss: 0.7078 - acc: 0.6940 - val_loss: 0.8780 - val_acc: 0.6275\n",
      "Epoch 7/10\n",
      "13117/13117 [==============================] - 321s - loss: 0.6841 - acc: 0.7062 - val_loss: 0.8723 - val_acc: 0.6337\n",
      "Epoch 8/10\n",
      "13117/13117 [==============================] - 315s - loss: 0.6543 - acc: 0.7203 - val_loss: 0.9478 - val_acc: 0.6076\n",
      "Epoch 9/10\n",
      "13117/13117 [==============================] - 313s - loss: 0.6314 - acc: 0.7293 - val_loss: 0.8970 - val_acc: 0.6284\n",
      "Epoch 10/10\n",
      "13117/13117 [==============================] - 312s - loss: 0.6068 - acc: 0.7416 - val_loss: 0.9716 - val_acc: 0.6176\n"
     ]
    }
   ],
   "source": [
    "model = Sequential()\n",
    "model.add(Dense(512, input_shape=(500, 100), init=\"uniform\",\n",
    "\tactivation=\"relu\"))\n",
    "model.add(Dense(256, init=\"uniform\", activation=\"relu\"))\n",
    "model.add(Dense(256, init=\"uniform\", activation=\"relu\"))\n",
    "model.add(Flatten())\n",
    "model.add(Dense(3, activation=\"softmax\"))\n",
    "model.compile(optimizer='rmsprop',\n",
    "              loss='categorical_crossentropy',\n",
    "              metrics=['accuracy'])\n",
    "history = model.fit(X_train, y_train, epochs=10, validation_split=0.33, batch_size=32)"
   ]
  },
  {
   "cell_type": "code",
   "execution_count": 16,
   "metadata": {},
   "outputs": [
    {
     "name": "stdout",
     "output_type": "stream",
     "text": [
      "[[ 0.4010371   0.09606495  0.50289798]] [ 0.  0.  1.]\n"
     ]
    }
   ],
   "source": [
    "prediction = model.predict(np.array([X_train[3]]))\n",
    "print prediction, y_train[3]"
   ]
  },
  {
   "cell_type": "code",
   "execution_count": 17,
   "metadata": {
    "collapsed": true
   },
   "outputs": [],
   "source": [
    "test_df = pd.read_csv('test.csv')\n",
    "X_test_text = test_df['text']"
   ]
  },
  {
   "cell_type": "code",
   "execution_count": 18,
   "metadata": {
    "collapsed": true
   },
   "outputs": [],
   "source": [
    "X_test = [vectorize(text) for text in X_test_text]\n",
    "X_test = sequence.pad_sequences(X_test, maxlen=max_length)"
   ]
  },
  {
   "cell_type": "code",
   "execution_count": 19,
   "metadata": {
    "collapsed": true
   },
   "outputs": [],
   "source": [
    "ids, y_test = [i for i in test_df['id']], model.predict(X_test)"
   ]
  },
  {
   "cell_type": "code",
   "execution_count": 20,
   "metadata": {},
   "outputs": [
    {
     "name": "stdout",
     "output_type": "stream",
     "text": [
      "id,EAP,HPL,MWS\n",
      "id02310,0.0880947932601,0.0480014458299,0.863903701305\n",
      "id24541,0.860058665276,0.0912151411176,0.0487261936069\n",
      "id00134,0.0408392772079,0.796681284904,0.162479400635\n",
      "id27757,0.62688851356\n"
     ]
    }
   ],
   "source": [
    "# submission_file = open('submission1.csv', 'w')\n",
    "file_text = \"\"\n",
    "file_text += \"id,EAP,HPL,MWS\\n\"\n",
    "for data in zip(ids, y_test):\n",
    "    file_text += \"{},{},{},{}\\n\".format(data[0], data[1][0], data[1][1], data[1][2])\n",
    "print(file_text[:200])"
   ]
  },
  {
   "cell_type": "code",
   "execution_count": 21,
   "metadata": {
    "collapsed": true
   },
   "outputs": [],
   "source": [
    "submission_file = open('submission2.csv', 'w')\n",
    "submission_file.write(file_text)\n",
    "submission_file.close()"
   ]
  },
  {
   "cell_type": "code",
   "execution_count": null,
   "metadata": {
    "collapsed": true
   },
   "outputs": [],
   "source": []
  }
 ],
 "metadata": {
  "kernelspec": {
   "display_name": "Python 2",
   "language": "python",
   "name": "python2"
  },
  "language_info": {
   "codemirror_mode": {
    "name": "ipython",
    "version": 2
   },
   "file_extension": ".py",
   "mimetype": "text/x-python",
   "name": "python",
   "nbconvert_exporter": "python",
   "pygments_lexer": "ipython2",
   "version": "2.7.10"
  }
 },
 "nbformat": 4,
 "nbformat_minor": 2
}
